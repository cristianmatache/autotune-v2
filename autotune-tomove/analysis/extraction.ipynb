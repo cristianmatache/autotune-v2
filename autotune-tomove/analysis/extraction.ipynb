{
 "cells": [
  {
   "cell_type": "code",
   "execution_count": 1,
   "metadata": {
    "collapsed": true
   },
   "outputs": [],
   "source": [
    "import pickle\n",
    "import matplotlib.pyplot as plt\n",
    "import numpy as np"
   ]
  },
  {
   "cell_type": "code",
   "execution_count": 2,
   "metadata": {
    "collapsed": true
   },
   "outputs": [],
   "source": [
    "import os\n",
    "dir = '/Users/signapoop/Desktop/autotune'\n",
    "os.chdir(dir)\n",
    "from autotune.core.HyperbandOptimiser import HyperbandOptimiser\n",
    "from autotune.core.RandomOptimiser import RandomOptimiser\n",
    "from autotune.core.TpeOptimiser import TpeOptimiser\n",
    "from autotune.util.best_value import best_value"
   ]
  },
  {
   "cell_type": "code",
   "execution_count": 3,
   "metadata": {
    "collapsed": true
   },
   "outputs": [],
   "source": [
    "path = '/Users/signapoop/Desktop/'\n",
    "os.chdir(path)"
   ]
  },
  {
   "cell_type": "code",
   "execution_count": 23,
   "metadata": {},
   "outputs": [],
   "source": [
    "checkpoints = []\n",
    "Y = []\n",
    "Y_best = []\n",
    "with open('log_4.txt') as f:  \n",
    "    for line in f:\n",
    "        if \"num iteration\" in line:\n",
    "            chunks = line.split(\" \")\n",
    "            checkpoints.append(float(chunks[5][:-2]))\n",
    "            Y.append(float(chunks[7][:-1]))\n",
    "            Y_best.append(float(chunks[9]))\n",
    "            # print line.split(\" \")"
   ]
  },
  {
   "cell_type": "code",
   "execution_count": 24,
   "metadata": {
    "collapsed": true
   },
   "outputs": [],
   "source": [
    "tpe_opt = TpeOptimiser()\n",
    "tpe_opt.checkpoints = checkpoints\n",
    "tpe_opt.Y = Y  \n",
    "tpe_opt.Y_best = Y_best "
   ]
  },
  {
   "cell_type": "code",
   "execution_count": 25,
   "metadata": {
    "collapsed": true
   },
   "outputs": [],
   "source": [
    "filename = '/Users/signapoop/Desktop/' + 'tpe_10_results.pkl'\n",
    "with open(filename, 'wb') as f:\n",
    "    pickle.dump([tpe_opt], f)"
   ]
  },
  {
   "cell_type": "code",
   "execution_count": 19,
   "metadata": {},
   "outputs": [
    {
     "data": {
      "text/plain": [
       "[291.93,\n",
       " 553.9,\n",
       " 1015.38,\n",
       " 1202.71,\n",
       " 1396.84,\n",
       " 1655.55,\n",
       " 2122.18,\n",
       " 2419.39,\n",
       " 2638.86,\n",
       " 3046.56,\n",
       " 3357.83,\n",
       " 3697.75,\n",
       " 3906.27,\n",
       " 4210.74,\n",
       " 4653.19,\n",
       " 4935.04,\n",
       " 5139.63,\n",
       " 5422.45,\n",
       " 5710.94,\n",
       " 6030.55,\n",
       " 6433.1,\n",
       " 6787.31,\n",
       " 7397.08,\n",
       " 7715.14,\n",
       " 8002.42,\n",
       " 8328.56,\n",
       " 8595.15,\n",
       " 8799.98,\n",
       " 9094.85,\n",
       " 9300.24]"
      ]
     },
     "execution_count": 19,
     "metadata": {},
     "output_type": "execute_result"
    }
   ],
   "source": [
    "tpe_opt.checkpoints"
   ]
  },
  {
   "cell_type": "code",
   "execution_count": 74,
   "metadata": {
    "collapsed": true
   },
   "outputs": [],
   "source": [
    "path = '/Users/signapoop/Desktop/results/' + 'cifar_9hps_rand_40'\n",
    "os.chdir(path)\n",
    "file = open(\"results.pkl\",'rb')\n",
    "object_file = pickle.load(file)\n",
    "file.close()"
   ]
  },
  {
   "cell_type": "code",
   "execution_count": 75,
   "metadata": {},
   "outputs": [
    {
     "data": {
      "text/plain": [
       "40"
      ]
     },
     "execution_count": 75,
     "metadata": {},
     "output_type": "execute_result"
    }
   ],
   "source": [
    "random_big = object_file[0]\n",
    "len(random_big.checkpoints)"
   ]
  },
  {
   "cell_type": "code",
   "execution_count": 76,
   "metadata": {
    "collapsed": true
   },
   "outputs": [],
   "source": [
    "random_big.checkpoints = [0] + random_big.checkpoints\n",
    "new_checkpoints = []\n",
    "for i, checkpoint in enumerate(random_big.checkpoints):\n",
    "    if i%8 == 1:\n",
    "        seq = random_big.checkpoints[i:i+8]\n",
    "        for j in range(len(seq)):\n",
    "            seq[j] = seq[j] - random_big.checkpoints[i-1]\n",
    "        new_checkpoints.append(seq)"
   ]
  },
  {
   "cell_type": "code",
   "execution_count": 77,
   "metadata": {},
   "outputs": [
    {
     "data": {
      "text/plain": [
       "[[380.69688987731934,\n",
       "  575.3999969959259,\n",
       "  853.56290102005,\n",
       "  1057.943685054779,\n",
       "  1237.1627209186554,\n",
       "  1464.783919095993,\n",
       "  1739.3638820648193,\n",
       "  1936.3104510307312],\n",
       " [285.899493932724,\n",
       "  726.7349028587341,\n",
       "  924.3932549953461,\n",
       "  1110.673220872879,\n",
       "  1585.5193140506744,\n",
       "  1845.3033349514008,\n",
       "  2257.279387950897,\n",
       "  2465.54008102417],\n",
       " [182.73752903938293,\n",
       "  651.6970808506012,\n",
       "  869.7835869789124,\n",
       "  1099.1519210338593,\n",
       "  1389.4739909172058,\n",
       "  1728.450530052185,\n",
       "  2016.8266849517822,\n",
       "  2304.483670949936],\n",
       " [495.76940298080444,\n",
       "  902.767462015152,\n",
       "  1105.5819339752197,\n",
       "  1436.0530769824982,\n",
       "  1742.4861969947815,\n",
       "  2051.939785003662,\n",
       "  2438.667890071869,\n",
       "  2640.2089738845825],\n",
       " [337.02306604385376,\n",
       "  525.9153151512146,\n",
       "  709.5576450824738,\n",
       "  937.4078421592712,\n",
       "  1150.15278506279,\n",
       "  1333.3333129882812,\n",
       "  1592.7822411060333,\n",
       "  2005.0112540721893]]"
      ]
     },
     "execution_count": 77,
     "metadata": {},
     "output_type": "execute_result"
    }
   ],
   "source": [
    "new_checkpoints"
   ]
  },
  {
   "cell_type": "code",
   "execution_count": 85,
   "metadata": {
    "collapsed": true
   },
   "outputs": [],
   "source": [
    "n = 5\n",
    "random = []\n",
    "for i in range(0,n):\n",
    "\n",
    "    problem_text = \"cifar_9hps_\" + str(i+1)\n",
    "    path = '/Users/signapoop/Desktop/results/' + problem_text\n",
    "    os.chdir(path)\n",
    "    file = open(\"results.pkl\",'rb')\n",
    "    object_file = pickle.load(file)\n",
    "    file.close()\n",
    "    hb_opt = object_file[0]\n",
    "    random_opt = object_file[1]\n",
    "    \n",
    "    # Append y values\n",
    "    random_opt.Y = random_opt.Y + random_big.Y[i*8:(i+1)*8]\n",
    "    \n",
    "    # Append checkpoints\n",
    "    seq = new_checkpoints[i]\n",
    "    seq = [s + random_opt.checkpoints[-1] for s in seq]\n",
    "    random_opt.checkpoints = random_opt.checkpoints + seq\n",
    "    \n",
    "    # Recompute y_best\n",
    "    random_opt.Y_best = best_value(random_opt.Y)\n",
    "    random.append(random_opt)\n",
    "    \n",
    "    filename = 'results_new.pkl'\n",
    "    with open(filename, 'wb') as f:\n",
    "        pickle.dump([hb_opt, random_opt], f)\n",
    "    "
   ]
  },
  {
   "cell_type": "code",
   "execution_count": 84,
   "metadata": {},
   "outputs": [
    {
     "name": "stdout",
     "output_type": "stream",
     "text": [
      "25\n",
      "[0.5825, 0.24329999999999996, 0.9, 0.2168, 0.3909, 0.5926, 0.8114, 0.43720000000000003, 0.2952, 0.6668000000000001, 0.6799, 0.5381, 0.7765, 0.9, 0.4507, 0.2653, 0.46299999999999997, 0.26049999999999995, 0.2672, 0.19469999999999998, 0.4014, 0.3671, 0.8168, 0.5525, 0.6737]\n",
      "25\n",
      "[0.44389999999999996, 0.2389, 0.5379, 0.3033, 0.18369999999999997, 0.8987, 0.2238, 0.6466000000000001, 0.2136, 0.32909999999999995, 0.7010000000000001, 0.2106, 0.1694, 0.5856, 0.43589999999999995, 0.35309999999999997, 0.2996, 0.7613, 0.20399999999999996, 0.2117, 0.518, 0.17779999999999996, 0.24270000000000003, 0.9, 0.38959999999999995]\n",
      "21\n",
      "[0.39339999999999997, 0.7705, 0.5925, 0.8607, 0.6179, 0.4104, 0.22629999999999995, 0.25149999999999995, 0.9, 0.4305, 0.563, 0.5886, 0.23929999999999996, 0.27480000000000004, 0.6289, 0.8636, 0.5538000000000001, 0.30979999999999996, 0.20589999999999997, 0.19589999999999996, 0.19889999999999997]\n",
      "26\n",
      "[0.19240000000000002, 0.635, 0.3679, 0.47850000000000004, 0.45620000000000005, 0.2653, 0.4556, 0.8889, 0.7663, 0.5454, 0.25239999999999996, 0.46009999999999995, 0.6369, 0.8854, 0.19779999999999998, 0.8415, 0.2842, 0.9, 0.5555, 0.9, 0.5119, 0.7725, 0.22150000000000003, 0.2146, 0.7861, 0.7628]\n",
      "28\n",
      "[0.19579999999999997, 0.9, 0.2569, 0.26359999999999995, 0.7119, 0.2528, 0.2197, 0.22929999999999995, 0.19330000000000003, 0.8097, 0.2894, 0.8092, 0.6146, 0.2208, 0.18869999999999998, 0.48629999999999995, 0.20389999999999997, 0.6691, 0.6746, 0.38170000000000004, 0.7183999999999999, 0.267, 0.3699, 0.33140000000000003, 0.22599999999999998, 0.38380000000000003, 0.2895, 0.43320000000000003]\n"
     ]
    }
   ],
   "source": [
    "for r in random:\n",
    "    print(len(r.checkpoints))\n",
    "    print(r.Y)\n",
    "    #print(r.checkpoints)\n",
    "    #print(r.Y)"
   ]
  },
  {
   "cell_type": "code",
   "execution_count": null,
   "metadata": {
    "collapsed": true
   },
   "outputs": [],
   "source": []
  }
 ],
 "metadata": {
  "kernelspec": {
   "display_name": "Python [conda env:py27]",
   "language": "python",
   "name": "conda-env-py27-py"
  },
  "language_info": {
   "codemirror_mode": {
    "name": "ipython",
    "version": 2
   },
   "file_extension": ".py",
   "mimetype": "text/x-python",
   "name": "python",
   "nbconvert_exporter": "python",
   "pygments_lexer": "ipython2",
   "version": "2.7.14"
  }
 },
 "nbformat": 4,
 "nbformat_minor": 2
}
