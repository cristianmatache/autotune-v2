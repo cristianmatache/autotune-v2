{
 "cells": [
  {
   "cell_type": "code",
   "execution_count": 20,
   "metadata": {},
   "outputs": [],
   "source": [
    "import smtplib \n",
    "from email.mime.multipart import MIMEMultipart\n",
    "from email.mime.text import MIMEText\n",
    "from email.mime.base import MIMEBase\n",
    "from email import encoders\n",
    "\n",
    "def emailOTPtoUser(targetAddress, message, file_paths):\n",
    "    serviceAddress = \"hyperband8@gmail.com\"\n",
    "    servicePassword = \"Hyperband1\"\n",
    "\n",
    "    msg = MIMEMultipart()\n",
    "    msg['From'] = serviceAddress\n",
    "    msg['To'] = targetAddress\n",
    "    msg['Subject'] = \"Experiment completed!\"\n",
    "\n",
    "    body = message\n",
    "    msg.attach(MIMEText(body, 'plain'))\n",
    "    \n",
    "    for file_path in file_paths:\n",
    "        file_name = file_path.split(\"/\")[-1]\n",
    "        \n",
    "        # open the file to be sent \n",
    "        attachment = open(file_path, \"rb\")\n",
    "\n",
    "        # instance of MIMEBase and named as p\n",
    "        p = MIMEBase('application', 'octet-stream')\n",
    "\n",
    "        # To change the payload into encoded form\n",
    "        p.set_payload((attachment).read())\n",
    "\n",
    "        # encode into base64\n",
    "        encoders.encode_base64(p)\n",
    "\n",
    "        p.add_header('Content-Disposition', \"attachment; filename= %s\" % file_name)\n",
    "\n",
    "        # attach the instance 'p' to instance 'msg'\n",
    "        msg.attach(p)\n",
    "\n",
    "    server = smtplib.SMTP('smtp.gmail.com', 587)\n",
    "    server.starttls()\n",
    "    server.login(serviceAddress , servicePassword)\n",
    "    text = msg.as_string()\n",
    "    server.sendmail(serviceAddress, targetAddress, text)\n",
    "\n",
    "    print(\" \\n Email sent with message: \" + message)\n",
    "    server.quit()\n"
   ]
  },
  {
   "cell_type": "code",
   "execution_count": 15,
   "metadata": {},
   "outputs": [],
   "source": [
    "%notebook -e results_log.ipynb"
   ]
  },
  {
   "cell_type": "code",
   "execution_count": 8,
   "metadata": {},
   "outputs": [],
   "source": [
    "import os\n",
    "current_dir = os.getcwd()"
   ]
  },
  {
   "cell_type": "code",
   "execution_count": 24,
   "metadata": {},
   "outputs": [
    {
     "name": "stdout",
     "output_type": "stream",
     "text": [
      "Hello_world\r\n"
     ]
    }
   ],
   "source": [
    "!python -m hello | tee hello.txt"
   ]
  },
  {
   "cell_type": "code",
   "execution_count": 25,
   "metadata": {},
   "outputs": [
    {
     "name": "stdout",
     "output_type": "stream",
     "text": [
      " \n",
      " Email sent with message: hello world\n"
     ]
    }
   ],
   "source": [
    "mailto = \"leowyaoyang@gmail.com\"\n",
    "message = \"hello world\"\n",
    "output_dir = \"\"\n",
    "file_paths = ['hello.txt', 'plot_convergence.py']\n",
    "file_paths = [output_dir+f for f in file_paths]\n",
    "emailOTPtoUser(mailto, message, file_paths)"
   ]
  },
  {
   "cell_type": "code",
   "execution_count": null,
   "metadata": {
    "collapsed": true
   },
   "outputs": [],
   "source": []
  }
 ],
 "metadata": {
  "kernelspec": {
   "display_name": "Python [conda env:py27]",
   "language": "python",
   "name": "conda-env-py27-py"
  },
  "language_info": {
   "codemirror_mode": {
    "name": "ipython",
    "version": 2
   },
   "file_extension": ".py",
   "mimetype": "text/x-python",
   "name": "python",
   "nbconvert_exporter": "python",
   "pygments_lexer": "ipython2",
   "version": "2.7.14"
  }
 },
 "nbformat": 4,
 "nbformat_minor": 2
}
